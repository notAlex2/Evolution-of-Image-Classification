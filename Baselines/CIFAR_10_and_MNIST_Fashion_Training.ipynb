{
  "nbformat": 4,
  "nbformat_minor": 0,
  "metadata": {
    "colab": {
      "name": "CIFAR-10 and MNIST-Fashion Training.ipynb",
      "provenance": [],
      "collapsed_sections": [
        "FdV2BnMG0zd1"
      ]
    },
    "kernelspec": {
      "name": "python3",
      "display_name": "Python 3"
    }
  },
  "cells": [
    {
      "cell_type": "markdown",
      "metadata": {
        "id": "5ApCitPa8rFy",
        "colab_type": "text"
      },
      "source": [
        "# Import the datasets"
      ]
    },
    {
      "cell_type": "code",
      "metadata": {
        "id": "tsnUWXfPa2sF",
        "colab_type": "code",
        "colab": {
          "base_uri": "https://localhost:8080/",
          "height": 34
        },
        "outputId": "cb4829f6-4cb8-40fb-c334-13263fdfd579"
      },
      "source": [
        "from keras.datasets import fashion_mnist, cifar10\n",
        "\n",
        "(trainX, trainY), (testX, testY) = fashion_mnist.load_data() # (60000, 28, 28)\n",
        "(x_train, y_train), (x_test, y_test) = cifar10.load_data() # (50000, 32, 32, 3)"
      ],
      "execution_count": 1,
      "outputs": [
        {
          "output_type": "stream",
          "text": [
            "Using TensorFlow backend.\n"
          ],
          "name": "stderr"
        }
      ]
    },
    {
      "cell_type": "markdown",
      "metadata": {
        "id": "johMoodRlVBK",
        "colab_type": "text"
      },
      "source": [
        "Grayscale for CIFAR-10"
      ]
    },
    {
      "cell_type": "code",
      "metadata": {
        "id": "NMLWsGOmlYeU",
        "colab_type": "code",
        "colab": {}
      },
      "source": [
        "# from: http://www.cs.nthu.edu.tw/~shwu/courses/ml/labs/11_NN_Regularization/11_NN_Regularization.html\n",
        "import numpy as np\n",
        "\n",
        "def grayscale(data, dtype='float32'):\n",
        "    # luma coding weighted average in video systems\n",
        "    r, g, b = np.asarray(.3, dtype=dtype), np.asarray(.59, dtype=dtype), np.asarray(.11, dtype=dtype)\n",
        "    rst = r * data[:, :, :, 0] + g * data[:, :, :, 1] + b * data[:, :, :, 2]\n",
        "    # add channel dimension\n",
        "    rst = np.expand_dims(rst, axis=3)\n",
        "    return rst\n",
        "\n",
        "x_train_gray = grayscale(x_train)\n",
        "x_test_gray = grayscale(x_test)"
      ],
      "execution_count": 0,
      "outputs": []
    },
    {
      "cell_type": "markdown",
      "metadata": {
        "id": "0IEMnzBq8wxb",
        "colab_type": "text"
      },
      "source": [
        "Visualize the data"
      ]
    },
    {
      "cell_type": "code",
      "metadata": {
        "colab_type": "code",
        "outputId": "82ad1cdd-6029-4b01-b33d-605e3a90454d",
        "id": "bTXRzfadhHtA",
        "colab": {
          "base_uri": "https://localhost:8080/",
          "height": 118
        }
      },
      "source": [
        "import matplotlib.pyplot as plt\n",
        "\n",
        "target = 0\n",
        "\n",
        "plt.figure()\n",
        "plt.imshow(x_train[target,:])\n",
        "plt.axis('off')\n",
        "plt.show()\n",
        "print(y_train[target])\n",
        "\n",
        "plt.figure()\n",
        "plt.imshow(np.squeeze(x_train_gray[target,:]),cmap='gray')\n",
        "plt.axis('off')\n",
        "plt.show()\n",
        "print(y_train[target])\n",
        "\n",
        "plt.figure()\n",
        "plt.imshow(trainX[target,:],cmap='gray')\n",
        "plt.axis('off')\n",
        "plt.show()\n",
        "print(trainY[target])"
      ],
      "execution_count": 3,
      "outputs": [
        {
          "output_type": "display_data",
          "data": {
            "text/plain": [
              "<Figure size 640x480 with 1 Axes>"
            ]
          },
          "metadata": {
            "tags": []
          }
        },
        {
          "output_type": "stream",
          "text": [
            "[6]\n"
          ],
          "name": "stdout"
        },
        {
          "output_type": "display_data",
          "data": {
            "text/plain": [
              "<Figure size 640x480 with 1 Axes>"
            ]
          },
          "metadata": {
            "tags": []
          }
        },
        {
          "output_type": "stream",
          "text": [
            "[6]\n"
          ],
          "name": "stdout"
        },
        {
          "output_type": "display_data",
          "data": {
            "text/plain": [
              "<Figure size 640x480 with 1 Axes>"
            ]
          },
          "metadata": {
            "tags": []
          }
        },
        {
          "output_type": "stream",
          "text": [
            "9\n"
          ],
          "name": "stdout"
        }
      ]
    },
    {
      "cell_type": "markdown",
      "metadata": {
        "id": "xQ_BHj4uiwEo",
        "colab_type": "text"
      },
      "source": [
        "Pre-processing"
      ]
    },
    {
      "cell_type": "code",
      "metadata": {
        "id": "9iAyjmN5-RtQ",
        "colab_type": "code",
        "colab": {}
      },
      "source": [
        "y_train = np.squeeze(y_train)\n",
        "y_test = np.squeeze(y_test)"
      ],
      "execution_count": 0,
      "outputs": []
    },
    {
      "cell_type": "markdown",
      "metadata": {
        "id": "aM4emVdZg3jZ",
        "colab_type": "text"
      },
      "source": [
        "One-hot encoding"
      ]
    },
    {
      "cell_type": "code",
      "metadata": {
        "id": "jbS5mOM-V_J2",
        "colab_type": "code",
        "colab": {}
      },
      "source": [
        "import keras\n",
        "num_classes = 10\n",
        "onehot_y_train = keras.utils.to_categorical(y_train, num_classes)\n",
        "onehot_y_test = keras.utils.to_categorical(y_test, num_classes)\n",
        "onehot_trainY = keras.utils.to_categorical(trainY, num_classes)\n",
        "onehot_testY = keras.utils.to_categorical(testY, num_classes)"
      ],
      "execution_count": 0,
      "outputs": []
    },
    {
      "cell_type": "markdown",
      "metadata": {
        "id": "GSqa-77nFYKJ",
        "colab_type": "text"
      },
      "source": [
        "Normalization of data to range [0,1]"
      ]
    },
    {
      "cell_type": "code",
      "metadata": {
        "id": "-6zdYsH3FXe3",
        "colab_type": "code",
        "colab": {}
      },
      "source": [
        "trainX = trainX/255.0\n",
        "testX = testX/255.0\n",
        "x_train = x_train/255.0\n",
        "x_test  = x_test/255.0"
      ],
      "execution_count": 0,
      "outputs": []
    },
    {
      "cell_type": "markdown",
      "metadata": {
        "id": "CtaQUVezpsV-",
        "colab_type": "text"
      },
      "source": [
        "Helper function"
      ]
    },
    {
      "cell_type": "code",
      "metadata": {
        "id": "1akO99KNbSdD",
        "colab_type": "code",
        "colab": {}
      },
      "source": [
        "def histPlot(history):\n",
        "  plt.plot(history.history['loss'], label='Training Loss')\n",
        "  plt.plot(history.history['val_loss'], label='Validation Loss')\n",
        "  plt.ylabel('Loss')\n",
        "  plt.xlabel('Epoch')\n",
        "  plt.ylim(0.0, np.max(history.history['loss'] + history.history['val_loss']))\n",
        "  plt.legend()\n",
        "  plt.show()\n",
        "\n",
        "  plt.plot(history.history['accuracy'], label='Training Accuracy')\n",
        "  plt.plot(history.history['val_accuracy'], label='Validation Accuracy')\n",
        "  plt.ylabel('Accuracy')\n",
        "  plt.xlabel('Epoch')\n",
        "  plt.ylim(0.0, 1.0)\n",
        "  plt.legend()\n",
        "  plt.show()"
      ],
      "execution_count": 0,
      "outputs": []
    },
    {
      "cell_type": "markdown",
      "metadata": {
        "id": "M1X1RR56jKk4",
        "colab_type": "text"
      },
      "source": [
        "# Implement CNN"
      ]
    },
    {
      "cell_type": "code",
      "metadata": {
        "id": "vEGMFhO-1ZQg",
        "colab_type": "code",
        "colab": {}
      },
      "source": [
        "from keras.models import Sequential\n",
        "from keras.layers import Dense, Dropout, Flatten, Conv2D, MaxPooling2D, BatchNormalization\n",
        "\n",
        "def simple_CNN_model(X, Y, m, n_colors, e):\n",
        "  model = Sequential()\n",
        "  model.add(Conv2D(32, (3, 3), activation='relu', padding='same', input_shape=(m,m,n_colors)))\n",
        "  model.add(BatchNormalization())\n",
        "\n",
        "  model.add(Conv2D(32, (3, 3), activation='relu', padding='same'))\n",
        "  model.add(BatchNormalization())\n",
        "\n",
        "  model.add(MaxPooling2D(pool_size=(2, 2)))\n",
        "\n",
        "  model.add(Conv2D(64, (3, 3), activation='relu', padding='same'))\n",
        "  model.add(BatchNormalization())\n",
        "\n",
        "  model.add(Conv2D(64, (3, 3), activation='relu', padding='same'))\n",
        "  model.add(BatchNormalization())\n",
        "\n",
        "  model.add(MaxPooling2D(pool_size=(2, 2)))\n",
        "\n",
        "  model.add(Flatten())\n",
        "\n",
        "  model.add(Dense(256, activation='relu'))\n",
        "  model.add(BatchNormalization())\n",
        "\n",
        "  model.add(Dense(10, activation='softmax'))\n",
        "\n",
        "  model.compile(loss='categorical_crossentropy',\n",
        "                optimizer='adam',\n",
        "                metrics=['accuracy'])\n",
        "\n",
        "  history = model.fit(X, Y,\n",
        "            batch_size=1024, epochs=e, \n",
        "            validation_split=0.1)\n",
        "  \n",
        "  return model, history"
      ],
      "execution_count": 0,
      "outputs": []
    },
    {
      "cell_type": "markdown",
      "metadata": {
        "id": "VDy1KYCS1LVx",
        "colab_type": "text"
      },
      "source": [
        "CIFAR-10"
      ]
    },
    {
      "cell_type": "code",
      "metadata": {
        "id": "eIskbJx2jNPo",
        "colab_type": "code",
        "colab": {}
      },
      "source": [
        "model1, history = simple_CNN_model(x_train, onehot_y_train, 32, 3, e=20)"
      ],
      "execution_count": 0,
      "outputs": []
    },
    {
      "cell_type": "code",
      "metadata": {
        "id": "msxEAOV0n3oE",
        "colab_type": "code",
        "colab": {
          "base_uri": "https://localhost:8080/",
          "height": 545
        },
        "outputId": "aa0cfc9f-ba11-4542-de85-e0c851793f77"
      },
      "source": [
        "histPlot(history)"
      ],
      "execution_count": 10,
      "outputs": [
        {
          "output_type": "display_data",
          "data": {
            "text/plain": [
              "<Figure size 432x288 with 1 Axes>"
            ],
            "image/png": "[encoded data removed]"
          },
          "metadata": {
            "tags": [],
            "needs_background": "light"
          }
        },
        {
          "output_type": "display_data",
          "data": {
            "text/plain": [
              "<Figure size 432x288 with 1 Axes>"
            ],
            "image/png": "[encoded data removed]"
          },
          "metadata": {
            "tags": [],
            "needs_background": "light"
          }
        }
      ]
    },
    {
      "cell_type": "code",
      "metadata": {
        "id": "BDUPGqgFn76N",
        "colab_type": "code",
        "colab": {
          "base_uri": "https://localhost:8080/",
          "height": 34
        },
        "outputId": "34f17674-2a15-4d7f-eeaf-9ee7200a2af2"
      },
      "source": [
        "scores = model1.evaluate(x_test, onehot_y_test, verbose=0)\n",
        "scores[1]"
      ],
      "execution_count": 11,
      "outputs": [
        {
          "output_type": "execute_result",
          "data": {
            "text/plain": [
              "0.7099000215530396"
            ]
          },
          "metadata": {
            "tags": []
          },
          "execution_count": 11
        }
      ]
    },
    {
      "cell_type": "code",
      "metadata": {
        "id": "3BST1egBdM7h",
        "colab_type": "code",
        "colab": {
          "base_uri": "https://localhost:8080/",
          "height": 622
        },
        "outputId": "108e4122-f8f8-4e73-e762-e578b3ac5366"
      },
      "source": [
        "model1.summary()"
      ],
      "execution_count": 27,
      "outputs": [
        {
          "output_type": "stream",
          "text": [
            "Model: \"sequential_1\"\n",
            "_________________________________________________________________\n",
            "Layer (type)                 Output Shape              Param #   \n",
            "=================================================================\n",
            "conv2d_1 (Conv2D)            (None, 32, 32, 32)        896       \n",
            "_________________________________________________________________\n",
            "batch_normalization_1 (Batch (None, 32, 32, 32)        128       \n",
            "_________________________________________________________________\n",
            "conv2d_2 (Conv2D)            (None, 32, 32, 32)        9248      \n",
            "_________________________________________________________________\n",
            "batch_normalization_2 (Batch (None, 32, 32, 32)        128       \n",
            "_________________________________________________________________\n",
            "max_pooling2d_1 (MaxPooling2 (None, 16, 16, 32)        0         \n",
            "_________________________________________________________________\n",
            "conv2d_3 (Conv2D)            (None, 16, 16, 64)        18496     \n",
            "_________________________________________________________________\n",
            "batch_normalization_3 (Batch (None, 16, 16, 64)        256       \n",
            "_________________________________________________________________\n",
            "conv2d_4 (Conv2D)            (None, 16, 16, 64)        36928     \n",
            "_________________________________________________________________\n",
            "batch_normalization_4 (Batch (None, 16, 16, 64)        256       \n",
            "_________________________________________________________________\n",
            "max_pooling2d_2 (MaxPooling2 (None, 8, 8, 64)          0         \n",
            "_________________________________________________________________\n",
            "flatten_1 (Flatten)          (None, 4096)              0         \n",
            "_________________________________________________________________\n",
            "dense_1 (Dense)              (None, 256)               1048832   \n",
            "_________________________________________________________________\n",
            "batch_normalization_5 (Batch (None, 256)               1024      \n",
            "_________________________________________________________________\n",
            "dense_2 (Dense)              (None, 10)                2570      \n",
            "=================================================================\n",
            "Total params: 1,118,762\n",
            "Trainable params: 1,117,866\n",
            "Non-trainable params: 896\n",
            "_________________________________________________________________\n"
          ],
          "name": "stdout"
        }
      ]
    },
    {
      "cell_type": "markdown",
      "metadata": {
        "id": "jS5yA6hC1OPU",
        "colab_type": "text"
      },
      "source": [
        "CIFAR-10 Grayscale"
      ]
    },
    {
      "cell_type": "code",
      "metadata": {
        "id": "_iqup8gb1P2c",
        "colab_type": "code",
        "colab": {}
      },
      "source": [
        "model2, history = simple_CNN_model(x_train_gray, onehot_y_train, 32, 1, e=10)"
      ],
      "execution_count": 0,
      "outputs": []
    },
    {
      "cell_type": "code",
      "metadata": {
        "id": "DQzIZOxy14dy",
        "colab_type": "code",
        "colab": {
          "base_uri": "https://localhost:8080/",
          "height": 545
        },
        "outputId": "3b6c8fb1-2e05-48f6-bdd5-89d479ccbfbb"
      },
      "source": [
        "histPlot(history)"
      ],
      "execution_count": 14,
      "outputs": [
        {
          "output_type": "display_data",
          "data": {
            "text/plain": [
              "<Figure size 432x288 with 1 Axes>"
            ],
            "image/png": "[encoded data removed]"
          },
          "metadata": {
            "tags": [],
            "needs_background": "light"
          }
        },
        {
          "output_type": "display_data",
          "data": {
            "text/plain": [
              "<Figure size 432x288 with 1 Axes>"
            ],
            "image/png": "[encoded data removed]"
          },
          "metadata": {
            "tags": [],
            "needs_background": "light"
          }
        }
      ]
    },
    {
      "cell_type": "code",
      "metadata": {
        "id": "6xzsNS-a3P5G",
        "colab_type": "code",
        "colab": {
          "base_uri": "https://localhost:8080/",
          "height": 34
        },
        "outputId": "425f26c6-fcf4-4d49-b9c3-0317e97a7530"
      },
      "source": [
        "scores = model2.evaluate(x_test_gray, onehot_y_test, verbose=0)\n",
        "scores[1]"
      ],
      "execution_count": 15,
      "outputs": [
        {
          "output_type": "execute_result",
          "data": {
            "text/plain": [
              "0.6818000078201294"
            ]
          },
          "metadata": {
            "tags": []
          },
          "execution_count": 15
        }
      ]
    },
    {
      "cell_type": "code",
      "metadata": {
        "id": "VuP_Bz8SdH-F",
        "colab_type": "code",
        "colab": {
          "base_uri": "https://localhost:8080/",
          "height": 622
        },
        "outputId": "ceaed37c-7301-4726-e210-5c358cf562a9"
      },
      "source": [
        "model2.summary()"
      ],
      "execution_count": 28,
      "outputs": [
        {
          "output_type": "stream",
          "text": [
            "Model: \"sequential_2\"\n",
            "_________________________________________________________________\n",
            "Layer (type)                 Output Shape              Param #   \n",
            "=================================================================\n",
            "conv2d_5 (Conv2D)            (None, 32, 32, 32)        320       \n",
            "_________________________________________________________________\n",
            "batch_normalization_6 (Batch (None, 32, 32, 32)        128       \n",
            "_________________________________________________________________\n",
            "conv2d_6 (Conv2D)            (None, 32, 32, 32)        9248      \n",
            "_________________________________________________________________\n",
            "batch_normalization_7 (Batch (None, 32, 32, 32)        128       \n",
            "_________________________________________________________________\n",
            "max_pooling2d_3 (MaxPooling2 (None, 16, 16, 32)        0         \n",
            "_________________________________________________________________\n",
            "conv2d_7 (Conv2D)            (None, 16, 16, 64)        18496     \n",
            "_________________________________________________________________\n",
            "batch_normalization_8 (Batch (None, 16, 16, 64)        256       \n",
            "_________________________________________________________________\n",
            "conv2d_8 (Conv2D)            (None, 16, 16, 64)        36928     \n",
            "_________________________________________________________________\n",
            "batch_normalization_9 (Batch (None, 16, 16, 64)        256       \n",
            "_________________________________________________________________\n",
            "max_pooling2d_4 (MaxPooling2 (None, 8, 8, 64)          0         \n",
            "_________________________________________________________________\n",
            "flatten_2 (Flatten)          (None, 4096)              0         \n",
            "_________________________________________________________________\n",
            "dense_3 (Dense)              (None, 256)               1048832   \n",
            "_________________________________________________________________\n",
            "batch_normalization_10 (Batc (None, 256)               1024      \n",
            "_________________________________________________________________\n",
            "dense_4 (Dense)              (None, 10)                2570      \n",
            "=================================================================\n",
            "Total params: 1,118,186\n",
            "Trainable params: 1,117,290\n",
            "Non-trainable params: 896\n",
            "_________________________________________________________________\n"
          ],
          "name": "stdout"
        }
      ]
    },
    {
      "cell_type": "markdown",
      "metadata": {
        "id": "TkacRL60K8vu",
        "colab_type": "text"
      },
      "source": [
        "Fashion MNIST"
      ]
    },
    {
      "cell_type": "code",
      "metadata": {
        "id": "hyHD5E0AK_X8",
        "colab_type": "code",
        "colab": {}
      },
      "source": [
        "model3, history = simple_CNN_model(trainX[:,:,:,np.newaxis], onehot_trainY, 28, 1, e=15)"
      ],
      "execution_count": 0,
      "outputs": []
    },
    {
      "cell_type": "code",
      "metadata": {
        "id": "ljfnDcCPL7S9",
        "colab_type": "code",
        "colab": {
          "base_uri": "https://localhost:8080/",
          "height": 545
        },
        "outputId": "7cf5cc34-f4ad-460d-9892-a8037bc4630d"
      },
      "source": [
        "histPlot(history)"
      ],
      "execution_count": 18,
      "outputs": [
        {
          "output_type": "display_data",
          "data": {
            "text/plain": [
              "<Figure size 432x288 with 1 Axes>"
            ],
            "image/png": "[encoded data removed]"
          },
          "metadata": {
            "tags": [],
            "needs_background": "light"
          }
        },
        {
          "output_type": "display_data",
          "data": {
            "text/plain": [
              "<Figure size 432x288 with 1 Axes>"
            ],
            "image/png": "[encoded data removed]"
          },
          "metadata": {
            "tags": [],
            "needs_background": "light"
          }
        }
      ]
    },
    {
      "cell_type": "code",
      "metadata": {
        "id": "Q4FfT6PEL8fX",
        "colab_type": "code",
        "colab": {
          "base_uri": "https://localhost:8080/",
          "height": 34
        },
        "outputId": "67af1211-d327-42f9-daf2-dc60f7e92701"
      },
      "source": [
        "scores = model3.evaluate(testX[:,:,:,np.newaxis], onehot_testY, verbose=0)\n",
        "scores[1]"
      ],
      "execution_count": 19,
      "outputs": [
        {
          "output_type": "execute_result",
          "data": {
            "text/plain": [
              "0.9248999953269958"
            ]
          },
          "metadata": {
            "tags": []
          },
          "execution_count": 19
        }
      ]
    },
    {
      "cell_type": "code",
      "metadata": {
        "id": "-16-f-bdTHLJ",
        "colab_type": "code",
        "colab": {
          "base_uri": "https://localhost:8080/",
          "height": 622
        },
        "outputId": "c18cf8ea-4b70-4421-a3dc-b72c900124c2"
      },
      "source": [
        "model3.summary()"
      ],
      "execution_count": 20,
      "outputs": [
        {
          "output_type": "stream",
          "text": [
            "Model: \"sequential_3\"\n",
            "_________________________________________________________________\n",
            "Layer (type)                 Output Shape              Param #   \n",
            "=================================================================\n",
            "conv2d_9 (Conv2D)            (None, 28, 28, 32)        320       \n",
            "_________________________________________________________________\n",
            "batch_normalization_11 (Batc (None, 28, 28, 32)        128       \n",
            "_________________________________________________________________\n",
            "conv2d_10 (Conv2D)           (None, 28, 28, 32)        9248      \n",
            "_________________________________________________________________\n",
            "batch_normalization_12 (Batc (None, 28, 28, 32)        128       \n",
            "_________________________________________________________________\n",
            "max_pooling2d_5 (MaxPooling2 (None, 14, 14, 32)        0         \n",
            "_________________________________________________________________\n",
            "conv2d_11 (Conv2D)           (None, 14, 14, 64)        18496     \n",
            "_________________________________________________________________\n",
            "batch_normalization_13 (Batc (None, 14, 14, 64)        256       \n",
            "_________________________________________________________________\n",
            "conv2d_12 (Conv2D)           (None, 14, 14, 64)        36928     \n",
            "_________________________________________________________________\n",
            "batch_normalization_14 (Batc (None, 14, 14, 64)        256       \n",
            "_________________________________________________________________\n",
            "max_pooling2d_6 (MaxPooling2 (None, 7, 7, 64)          0         \n",
            "_________________________________________________________________\n",
            "flatten_3 (Flatten)          (None, 3136)              0         \n",
            "_________________________________________________________________\n",
            "dense_5 (Dense)              (None, 256)               803072    \n",
            "_________________________________________________________________\n",
            "batch_normalization_15 (Batc (None, 256)               1024      \n",
            "_________________________________________________________________\n",
            "dense_6 (Dense)              (None, 10)                2570      \n",
            "=================================================================\n",
            "Total params: 872,426\n",
            "Trainable params: 871,530\n",
            "Non-trainable params: 896\n",
            "_________________________________________________________________\n"
          ],
          "name": "stdout"
        }
      ]
    },
    {
      "cell_type": "markdown",
      "metadata": {
        "id": "5otB_a269scv",
        "colab_type": "text"
      },
      "source": [
        "# Implement NN Using Keras"
      ]
    },
    {
      "cell_type": "markdown",
      "metadata": {
        "id": "nvAHLKLH9wa7",
        "colab_type": "text"
      },
      "source": [
        "Flatten images into vector format for non-convolutional algos"
      ]
    },
    {
      "cell_type": "code",
      "metadata": {
        "id": "lt6kTG-k9v0P",
        "colab_type": "code",
        "colab": {}
      },
      "source": [
        "def to_vec(data):\n",
        "  return np.reshape(data,(data.shape[0],-1))\n",
        "\n",
        "x_train = to_vec(x_train)\n",
        "x_train_gray = to_vec(x_train_gray)\n",
        "trainX = to_vec(trainX)\n",
        "\n",
        "x_test = to_vec(x_test)\n",
        "x_test_gray = to_vec(x_test_gray)\n",
        "testX = to_vec(testX)"
      ],
      "execution_count": 0,
      "outputs": []
    },
    {
      "cell_type": "markdown",
      "metadata": {
        "id": "UP5IiouQ1GP5",
        "colab_type": "text"
      },
      "source": [
        "Define Model"
      ]
    },
    {
      "cell_type": "code",
      "metadata": {
        "id": "gj_q2tAMNxsv",
        "colab_type": "code",
        "colab": {}
      },
      "source": [
        "from keras.models import Sequential\n",
        "from keras.layers import Dense, Activation, BatchNormalization\n",
        "from keras.regularizers import l2\n",
        "from keras.optimizers import Adagrad, Adam\n",
        "\n",
        "def simple_NN_model(X, Y, e, data_set=0):\n",
        "\n",
        "  if data_set == 0: # MNIST\n",
        "    n = 490\n",
        "  elif data_set == 1: # full color CIFAR-10\n",
        "    n = 303\n",
        "  else: # grayscale CIFAR-10\n",
        "    n = 532\n",
        "\n",
        "  model = Sequential([\n",
        "    # Input Layer, Hidden layer\n",
        "    Dense(n, use_bias=False, input_shape=(X.shape[1],), kernel_regularizer=l2(0.001)),\n",
        "    BatchNormalization(),\n",
        "    Activation('relu'),\n",
        "\n",
        "    Dense(n, use_bias=False, kernel_regularizer=l2(0.001)),\n",
        "    BatchNormalization(),\n",
        "    Activation('relu'),\n",
        "\n",
        "    Dense(n, use_bias=False, kernel_regularizer=l2(0.001)),\n",
        "    BatchNormalization(),\n",
        "    Activation('relu'),\n",
        "\n",
        "    # Output layer\n",
        "    Dense(10,use_bias=False),\n",
        "    BatchNormalization(),\n",
        "    Activation('softmax'),\n",
        "  ])\n",
        "\n",
        "  model.compile(\n",
        "    Adam(),\n",
        "    loss='categorical_crossentropy',\n",
        "    metrics=['accuracy']\n",
        "  )\n",
        "\n",
        "  history = model.fit(X, Y, epochs=e, batch_size=1024, validation_split=0.2)\n",
        "\n",
        "  return model, history\n"
      ],
      "execution_count": 0,
      "outputs": []
    },
    {
      "cell_type": "markdown",
      "metadata": {
        "id": "LQp2A7WXhBnK",
        "colab_type": "text"
      },
      "source": [
        "Fashion MNIST Training"
      ]
    },
    {
      "cell_type": "code",
      "metadata": {
        "id": "GaYtkJ_A9k6y",
        "colab_type": "code",
        "colab": {
          "base_uri": "https://localhost:8080/",
          "height": 706
        },
        "outputId": "95071fe2-c2c3-4b27-93ba-d304606cd61b"
      },
      "source": [
        "model, history = simple_NN_model(trainX, onehot_trainY, e=20, data_set=0)"
      ],
      "execution_count": 30,
      "outputs": [
        {
          "output_type": "stream",
          "text": [
            "Train on 48000 samples, validate on 12000 samples\n",
            "Epoch 1/20\n",
            "48000/48000 [==============================] - 2s 37us/step - loss: 2.2063 - accuracy: 0.8151 - val_loss: 2.9332 - val_accuracy: 0.7662\n",
            "Epoch 2/20\n",
            "48000/48000 [==============================] - 1s 21us/step - loss: 1.6447 - accuracy: 0.8811 - val_loss: 2.4409 - val_accuracy: 0.8133\n",
            "Epoch 3/20\n",
            "48000/48000 [==============================] - 1s 21us/step - loss: 1.2872 - accuracy: 0.8982 - val_loss: 2.1100 - val_accuracy: 0.8040\n",
            "Epoch 4/20\n",
            "48000/48000 [==============================] - 1s 20us/step - loss: 1.0374 - accuracy: 0.9065 - val_loss: 1.8362 - val_accuracy: 0.7868\n",
            "Epoch 5/20\n",
            "48000/48000 [==============================] - 1s 20us/step - loss: 0.8557 - accuracy: 0.9139 - val_loss: 1.5970 - val_accuracy: 0.8192\n",
            "Epoch 6/20\n",
            "48000/48000 [==============================] - 1s 19us/step - loss: 0.7264 - accuracy: 0.9199 - val_loss: 1.4123 - val_accuracy: 0.8058\n",
            "Epoch 7/20\n",
            "48000/48000 [==============================] - 1s 20us/step - loss: 0.6328 - accuracy: 0.9242 - val_loss: 1.1385 - val_accuracy: 0.8593\n",
            "Epoch 8/20\n",
            "48000/48000 [==============================] - 1s 19us/step - loss: 0.5677 - accuracy: 0.9258 - val_loss: 0.9788 - val_accuracy: 0.8541\n",
            "Epoch 9/20\n",
            "48000/48000 [==============================] - 1s 19us/step - loss: 0.5145 - accuracy: 0.9268 - val_loss: 0.8541 - val_accuracy: 0.8767\n",
            "Epoch 10/20\n",
            "48000/48000 [==============================] - 1s 19us/step - loss: 0.4764 - accuracy: 0.9299 - val_loss: 0.7751 - val_accuracy: 0.8618\n",
            "Epoch 11/20\n",
            "48000/48000 [==============================] - 1s 19us/step - loss: 0.4451 - accuracy: 0.9319 - val_loss: 0.7448 - val_accuracy: 0.8556\n",
            "Epoch 12/20\n",
            "48000/48000 [==============================] - 1s 19us/step - loss: 0.4201 - accuracy: 0.9335 - val_loss: 0.6603 - val_accuracy: 0.8759\n",
            "Epoch 13/20\n",
            "48000/48000 [==============================] - 1s 19us/step - loss: 0.3978 - accuracy: 0.9351 - val_loss: 0.7048 - val_accuracy: 0.8303\n",
            "Epoch 14/20\n",
            "48000/48000 [==============================] - 1s 19us/step - loss: 0.3813 - accuracy: 0.9378 - val_loss: 0.6583 - val_accuracy: 0.8560\n",
            "Epoch 15/20\n",
            "48000/48000 [==============================] - 1s 19us/step - loss: 0.3596 - accuracy: 0.9406 - val_loss: 0.7743 - val_accuracy: 0.8072\n",
            "Epoch 16/20\n",
            "48000/48000 [==============================] - 1s 19us/step - loss: 0.3460 - accuracy: 0.9431 - val_loss: 0.5840 - val_accuracy: 0.8741\n",
            "Epoch 17/20\n",
            "48000/48000 [==============================] - 1s 19us/step - loss: 0.3363 - accuracy: 0.9428 - val_loss: 0.5409 - val_accuracy: 0.8740\n",
            "Epoch 18/20\n",
            "48000/48000 [==============================] - 1s 19us/step - loss: 0.3274 - accuracy: 0.9435 - val_loss: 0.7278 - val_accuracy: 0.8223\n",
            "Epoch 19/20\n",
            "48000/48000 [==============================] - 1s 19us/step - loss: 0.3179 - accuracy: 0.9457 - val_loss: 0.5590 - val_accuracy: 0.8623\n",
            "Epoch 20/20\n",
            "48000/48000 [==============================] - 1s 19us/step - loss: 0.3051 - accuracy: 0.9476 - val_loss: 0.6199 - val_accuracy: 0.8389\n"
          ],
          "name": "stdout"
        }
      ]
    },
    {
      "cell_type": "code",
      "metadata": {
        "id": "XEp_WzDXO899",
        "colab_type": "code",
        "outputId": "c72faae6-2752-47ab-ba3e-da56ddbff6cc",
        "colab": {
          "base_uri": "https://localhost:8080/",
          "height": 545
        }
      },
      "source": [
        "histPlot(history)"
      ],
      "execution_count": 31,
      "outputs": [
        {
          "output_type": "display_data",
          "data": {
            "text/plain": [
              "<Figure size 432x288 with 1 Axes>"
            ],
            "image/png": "[encoded data removed]"
          },
          "metadata": {
            "tags": [],
            "needs_background": "light"
          }
        },
        {
          "output_type": "display_data",
          "data": {
            "text/plain": [
              "<Figure size 432x288 with 1 Axes>"
            ],
            "image/png": "[encoded data removed]"
          },
          "metadata": {
            "tags": [],
            "needs_background": "light"
          }
        }
      ]
    },
    {
      "cell_type": "code",
      "metadata": {
        "id": "JgKSFOWKSLu8",
        "colab_type": "code",
        "outputId": "bcbd92af-8c80-401d-8ef3-e41a523aafe7",
        "colab": {
          "base_uri": "https://localhost:8080/",
          "height": 34
        }
      },
      "source": [
        "scores = model.evaluate(testX, onehot_testY, verbose=0)\n",
        "scores[1]"
      ],
      "execution_count": 32,
      "outputs": [
        {
          "output_type": "execute_result",
          "data": {
            "text/plain": [
              "0.8349000215530396"
            ]
          },
          "metadata": {
            "tags": []
          },
          "execution_count": 32
        }
      ]
    },
    {
      "cell_type": "markdown",
      "metadata": {
        "id": "W8rv8U30hEv7",
        "colab_type": "text"
      },
      "source": [
        "CIFAR-10 Training"
      ]
    },
    {
      "cell_type": "code",
      "metadata": {
        "id": "Brgw65LC9rhr",
        "colab_type": "code",
        "colab": {
          "base_uri": "https://localhost:8080/",
          "height": 706
        },
        "outputId": "e20e8012-62b6-4205-9322-0326bfccf3fd"
      },
      "source": [
        "model2, history2 = simple_NN_model(x_train, onehot_y_train, e=20, data_set=1)"
      ],
      "execution_count": 33,
      "outputs": [
        {
          "output_type": "stream",
          "text": [
            "Train on 40000 samples, validate on 10000 samples\n",
            "Epoch 1/20\n",
            "40000/40000 [==============================] - 2s 54us/step - loss: 2.8521 - accuracy: 0.3919 - val_loss: 3.1643 - val_accuracy: 0.2241\n",
            "Epoch 2/20\n",
            "40000/40000 [==============================] - 2s 38us/step - loss: 2.4458 - accuracy: 0.4846 - val_loss: 2.8340 - val_accuracy: 0.3170\n",
            "Epoch 3/20\n",
            "40000/40000 [==============================] - 2s 38us/step - loss: 2.1808 - accuracy: 0.5231 - val_loss: 2.7037 - val_accuracy: 0.3375\n",
            "Epoch 4/20\n",
            "40000/40000 [==============================] - 2s 38us/step - loss: 1.9878 - accuracy: 0.5509 - val_loss: 2.5003 - val_accuracy: 0.3747\n",
            "Epoch 5/20\n",
            "40000/40000 [==============================] - 2s 38us/step - loss: 1.8318 - accuracy: 0.5798 - val_loss: 2.4590 - val_accuracy: 0.3647\n",
            "Epoch 6/20\n",
            "40000/40000 [==============================] - 2s 38us/step - loss: 1.7179 - accuracy: 0.5979 - val_loss: 2.4711 - val_accuracy: 0.3295\n",
            "Epoch 7/20\n",
            "40000/40000 [==============================] - 2s 38us/step - loss: 1.6190 - accuracy: 0.6184 - val_loss: 2.3807 - val_accuracy: 0.2881\n",
            "Epoch 8/20\n",
            "40000/40000 [==============================] - 2s 39us/step - loss: 1.5504 - accuracy: 0.6295 - val_loss: 2.3765 - val_accuracy: 0.2933\n",
            "Epoch 9/20\n",
            "40000/40000 [==============================] - 2s 38us/step - loss: 1.4658 - accuracy: 0.6508 - val_loss: 2.1689 - val_accuracy: 0.4045\n",
            "Epoch 10/20\n",
            "40000/40000 [==============================] - 2s 38us/step - loss: 1.4154 - accuracy: 0.6615 - val_loss: 2.1358 - val_accuracy: 0.3944\n",
            "Epoch 11/20\n",
            "40000/40000 [==============================] - 2s 38us/step - loss: 1.3764 - accuracy: 0.6719 - val_loss: 2.2150 - val_accuracy: 0.3686\n",
            "Epoch 12/20\n",
            "40000/40000 [==============================] - 2s 38us/step - loss: 1.3179 - accuracy: 0.6874 - val_loss: 2.2284 - val_accuracy: 0.3878\n",
            "Epoch 13/20\n",
            "40000/40000 [==============================] - 2s 38us/step - loss: 1.2933 - accuracy: 0.6939 - val_loss: 2.3007 - val_accuracy: 0.3614\n",
            "Epoch 14/20\n",
            "40000/40000 [==============================] - 2s 38us/step - loss: 1.2724 - accuracy: 0.6970 - val_loss: 2.2889 - val_accuracy: 0.3504\n",
            "Epoch 15/20\n",
            "40000/40000 [==============================] - 2s 39us/step - loss: 1.2287 - accuracy: 0.7125 - val_loss: 2.4488 - val_accuracy: 0.3405\n",
            "Epoch 16/20\n",
            "40000/40000 [==============================] - 2s 38us/step - loss: 1.1939 - accuracy: 0.7261 - val_loss: 2.1954 - val_accuracy: 0.3857\n",
            "Epoch 17/20\n",
            "40000/40000 [==============================] - 2s 38us/step - loss: 1.1393 - accuracy: 0.7460 - val_loss: 2.3869 - val_accuracy: 0.3670\n",
            "Epoch 18/20\n",
            "40000/40000 [==============================] - 2s 38us/step - loss: 1.1102 - accuracy: 0.7569 - val_loss: 2.3200 - val_accuracy: 0.3699\n",
            "Epoch 19/20\n",
            "40000/40000 [==============================] - 2s 38us/step - loss: 1.1023 - accuracy: 0.7557 - val_loss: 2.2252 - val_accuracy: 0.3765\n",
            "Epoch 20/20\n",
            "40000/40000 [==============================] - 2s 38us/step - loss: 1.0632 - accuracy: 0.7708 - val_loss: 2.6137 - val_accuracy: 0.3173\n"
          ],
          "name": "stdout"
        }
      ]
    },
    {
      "cell_type": "code",
      "metadata": {
        "id": "hKFJROU_bbbV",
        "colab_type": "code",
        "outputId": "eb0dd330-0979-4f2b-f27c-6cc02e95f14b",
        "colab": {
          "base_uri": "https://localhost:8080/",
          "height": 545
        }
      },
      "source": [
        "histPlot(history2)"
      ],
      "execution_count": 34,
      "outputs": [
        {
          "output_type": "display_data",
          "data": {
            "text/plain": [
              "<Figure size 432x288 with 1 Axes>"
            ],
            "image/png": "[encoded data removed]"
          },
          "metadata": {
            "tags": [],
            "needs_background": "light"
          }
        },
        {
          "output_type": "display_data",
          "data": {
            "text/plain": [
              "<Figure size 432x288 with 1 Axes>"
            ],
            "image/png": "[encoded data removed]"
          },
          "metadata": {
            "tags": [],
            "needs_background": "light"
          }
        }
      ]
    },
    {
      "cell_type": "code",
      "metadata": {
        "id": "EjSYeuiBSfZC",
        "colab_type": "code",
        "outputId": "8e1dd0e4-3292-46f2-8e16-1ed097131e19",
        "colab": {
          "base_uri": "https://localhost:8080/",
          "height": 34
        }
      },
      "source": [
        "scores = model2.evaluate(x_test, onehot_y_test, verbose=0)\n",
        "scores[1]"
      ],
      "execution_count": 35,
      "outputs": [
        {
          "output_type": "execute_result",
          "data": {
            "text/plain": [
              "0.31709998846054077"
            ]
          },
          "metadata": {
            "tags": []
          },
          "execution_count": 35
        }
      ]
    },
    {
      "cell_type": "markdown",
      "metadata": {
        "id": "Xu6czgJTJUGN",
        "colab_type": "text"
      },
      "source": [
        "CIFAR-10 on Grayscale"
      ]
    },
    {
      "cell_type": "code",
      "metadata": {
        "id": "h6AA2FfMJWN_",
        "colab_type": "code",
        "colab": {
          "base_uri": "https://localhost:8080/",
          "height": 706
        },
        "outputId": "137cbf17-8119-4b9a-e766-935a77c00c5e"
      },
      "source": [
        "model3, history3 = simple_NN_model(x_train_gray, onehot_y_train, e=20, data_set=2)"
      ],
      "execution_count": 36,
      "outputs": [
        {
          "output_type": "stream",
          "text": [
            "Train on 40000 samples, validate on 10000 samples\n",
            "Epoch 1/20\n",
            "40000/40000 [==============================] - 1s 35us/step - loss: 3.5109 - accuracy: 0.3446 - val_loss: 4.2373 - val_accuracy: 0.1945\n",
            "Epoch 2/20\n",
            "40000/40000 [==============================] - 1s 18us/step - loss: 2.9530 - accuracy: 0.4299 - val_loss: 3.2788 - val_accuracy: 0.2149\n",
            "Epoch 3/20\n",
            "40000/40000 [==============================] - 1s 17us/step - loss: 2.5835 - accuracy: 0.4670 - val_loss: 3.2879 - val_accuracy: 0.1689\n",
            "Epoch 4/20\n",
            "40000/40000 [==============================] - 1s 17us/step - loss: 2.3282 - accuracy: 0.4931 - val_loss: 2.9355 - val_accuracy: 0.2415\n",
            "Epoch 5/20\n",
            "40000/40000 [==============================] - 1s 17us/step - loss: 2.1293 - accuracy: 0.5195 - val_loss: 2.7600 - val_accuracy: 0.2386\n",
            "Epoch 6/20\n",
            "40000/40000 [==============================] - 1s 17us/step - loss: 1.9784 - accuracy: 0.5411 - val_loss: 2.7563 - val_accuracy: 0.2243\n",
            "Epoch 7/20\n",
            "40000/40000 [==============================] - 1s 17us/step - loss: 1.9072 - accuracy: 0.5404 - val_loss: 2.5089 - val_accuracy: 0.3069\n",
            "Epoch 8/20\n",
            "40000/40000 [==============================] - 1s 17us/step - loss: 1.7633 - accuracy: 0.5776 - val_loss: 2.5741 - val_accuracy: 0.2410\n",
            "Epoch 9/20\n",
            "40000/40000 [==============================] - 1s 17us/step - loss: 1.6979 - accuracy: 0.5892 - val_loss: 2.4117 - val_accuracy: 0.3008\n",
            "Epoch 10/20\n",
            "40000/40000 [==============================] - 1s 18us/step - loss: 1.6243 - accuracy: 0.6051 - val_loss: 2.3844 - val_accuracy: 0.3134\n",
            "Epoch 11/20\n",
            "40000/40000 [==============================] - 1s 17us/step - loss: 1.5650 - accuracy: 0.6205 - val_loss: 2.6891 - val_accuracy: 0.2553\n",
            "Epoch 12/20\n",
            "40000/40000 [==============================] - 1s 17us/step - loss: 1.4999 - accuracy: 0.6407 - val_loss: 2.3793 - val_accuracy: 0.3126\n",
            "Epoch 13/20\n",
            "40000/40000 [==============================] - 1s 17us/step - loss: 1.4357 - accuracy: 0.6629 - val_loss: 2.6266 - val_accuracy: 0.2713\n",
            "Epoch 14/20\n",
            "40000/40000 [==============================] - 1s 17us/step - loss: 1.4422 - accuracy: 0.6575 - val_loss: 2.7074 - val_accuracy: 0.2899\n",
            "Epoch 15/20\n",
            "40000/40000 [==============================] - 1s 17us/step - loss: 1.3821 - accuracy: 0.6765 - val_loss: 2.5003 - val_accuracy: 0.3026\n",
            "Epoch 16/20\n",
            "40000/40000 [==============================] - 1s 17us/step - loss: 1.3141 - accuracy: 0.7056 - val_loss: 2.6601 - val_accuracy: 0.2974\n",
            "Epoch 17/20\n",
            "40000/40000 [==============================] - 1s 17us/step - loss: 1.2397 - accuracy: 0.7346 - val_loss: 2.9812 - val_accuracy: 0.2592\n",
            "Epoch 18/20\n",
            "40000/40000 [==============================] - 1s 17us/step - loss: 1.2439 - accuracy: 0.7282 - val_loss: 3.0684 - val_accuracy: 0.2228\n",
            "Epoch 19/20\n",
            "40000/40000 [==============================] - 1s 17us/step - loss: 1.2008 - accuracy: 0.7486 - val_loss: 4.1832 - val_accuracy: 0.2026\n",
            "Epoch 20/20\n",
            "40000/40000 [==============================] - 1s 17us/step - loss: 1.1722 - accuracy: 0.7577 - val_loss: 3.4269 - val_accuracy: 0.2368\n"
          ],
          "name": "stdout"
        }
      ]
    },
    {
      "cell_type": "code",
      "metadata": {
        "id": "1j8nhL-GS5m4",
        "colab_type": "code",
        "outputId": "1424f337-3735-4187-f2c9-af98afb21007",
        "colab": {
          "base_uri": "https://localhost:8080/",
          "height": 545
        }
      },
      "source": [
        "histPlot(history3)"
      ],
      "execution_count": 37,
      "outputs": [
        {
          "output_type": "display_data",
          "data": {
            "text/plain": [
              "<Figure size 432x288 with 1 Axes>"
            ],
            "image/png": "[encoded data removed]"
          },
          "metadata": {
            "tags": [],
            "needs_background": "light"
          }
        },
        {
          "output_type": "display_data",
          "data": {
            "text/plain": [
              "<Figure size 432x288 with 1 Axes>"
            ],
            "image/png": "[encoded data removed]"
          },
          "metadata": {
            "tags": [],
            "needs_background": "light"
          }
        }
      ]
    },
    {
      "cell_type": "code",
      "metadata": {
        "id": "PZvpJFLaSpn1",
        "colab_type": "code",
        "outputId": "16c7ee1a-e849-406a-8453-71a4aa00bbfc",
        "colab": {
          "base_uri": "https://localhost:8080/",
          "height": 34
        }
      },
      "source": [
        "scores = model3.evaluate(x_test_gray, onehot_y_test, verbose=0)\n",
        "scores[1]"
      ],
      "execution_count": 38,
      "outputs": [
        {
          "output_type": "execute_result",
          "data": {
            "text/plain": [
              "0.22789999842643738"
            ]
          },
          "metadata": {
            "tags": []
          },
          "execution_count": 38
        }
      ]
    },
    {
      "cell_type": "markdown",
      "metadata": {
        "id": "FdV2BnMG0zd1",
        "colab_type": "text"
      },
      "source": [
        "# Train model using SVMs"
      ]
    },
    {
      "cell_type": "code",
      "metadata": {
        "id": "E8ZEDrWp0xmq",
        "colab_type": "code",
        "colab": {}
      },
      "source": [
        "from sklearn.svm import LinearSVC\n",
        "# from thundersvm import SVC\n",
        "from sklearn.model_selection import GridSearchCV\n",
        "\n",
        "svc = LinearSVC()\n",
        "# svc = SVC()\n",
        "params = {\n",
        "    'C': [0.003, 0.01, 0.03, 0.1]\n",
        "}\n",
        "gs = GridSearchCV(svc, params,n_jobs=-1,verbose=1,cv=5)\n",
        "\n",
        "gs.fit(trainX, trainY)\n",
        "\n",
        "print(gs.best_params_)\n",
        "print(gs.best_estimator_.score(testX, testY))"
      ],
      "execution_count": 0,
      "outputs": []
    },
    {
      "cell_type": "code",
      "metadata": {
        "id": "BWbGBA8e2Phh",
        "colab_type": "code",
        "colab": {}
      },
      "source": [
        "from sklearn.svm import LinearSVC\n",
        "from sklearn.model_selection import GridSearchCV\n",
        "\n",
        "svc = LinearSVC()\n",
        "params = {\n",
        "    'C': [0.01, 0.03, 0.1, 0.3]\n",
        "}\n",
        "gs2 = GridSearchCV(svc, params,n_jobs=-1,verbose=1,cv=5)\n",
        "\n",
        "gs2.fit(x_train_gray, y_train)\n",
        "\n",
        "print(gs2.best_params_)\n",
        "print(gs2.best_estimator_.score(x_test_gray, y_test))"
      ],
      "execution_count": 0,
      "outputs": []
    },
    {
      "cell_type": "markdown",
      "metadata": {
        "id": "V84Cb78CiwE8",
        "colab_type": "text"
      },
      "source": [
        "# Plot validation curves for SVMs"
      ]
    },
    {
      "cell_type": "code",
      "metadata": {
        "id": "Uy8yeW5Gi2OJ",
        "colab_type": "code",
        "colab": {}
      },
      "source": [
        "train_scores = []\n",
        "test_scores = []\n",
        "iters = [1, 2, 3, 4, 5, 10, 30, 100, 300, 1000]\n",
        "for n in iters:\n",
        "  svc = LinearSVC(**gs.best_params_, max_iter=n, tol=1E-12).fit(trainX,trainY)\n",
        "  train_scores += [svc.score(trainX,trainY)]\n",
        "  test_scores += [svc.score(testX, testY)]"
      ],
      "execution_count": 0,
      "outputs": []
    },
    {
      "cell_type": "code",
      "metadata": {
        "id": "YxceQ7iNvqW2",
        "colab_type": "code",
        "colab": {}
      },
      "source": [
        "plt.plot(iters,train_scores, label='Training Accuracy')\n",
        "plt.plot(iters,test_scores, label='Test Accuracy')\n",
        "plt.xscale('log')\n",
        "plt.ylabel('Accuracy')\n",
        "plt.xlabel('Iteration')\n",
        "plt.ylim(0.0, 1.0)\n",
        "plt.legend()\n",
        "plt.show()"
      ],
      "execution_count": 0,
      "outputs": []
    }
  ]
}