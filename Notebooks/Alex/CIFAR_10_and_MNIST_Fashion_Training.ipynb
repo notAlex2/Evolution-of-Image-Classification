{
  "nbformat": 4,
  "nbformat_minor": 0,
  "metadata": {
    "colab": {
      "name": "CIFAR-10 and MNIST-Fashion Training.ipynb",
      "provenance": []
    },
    "kernelspec": {
      "name": "python3",
      "display_name": "Python 3"
    }
  },
  "cells": [
    {
      "cell_type": "markdown",
      "metadata": {
        "id": "5ApCitPa8rFy",
        "colab_type": "text"
      },
      "source": [
        "# Import the datasets"
      ]
    },
    {
      "cell_type": "code",
      "metadata": {
        "id": "tsnUWXfPa2sF",
        "colab_type": "code",
        "colab": {}
      },
      "source": [
        "from keras.datasets import fashion_mnist, cifar10\n",
        "\n",
        "(trainX, trainY), (testX, testY) = fashion_mnist.load_data() # (60000, 28, 28)\n",
        "(x_train, y_train), (x_test, y_test) = cifar10.load_data() # (50000, 32, 32, 3)"
      ],
      "execution_count": 0,
      "outputs": []
    },
    {
      "cell_type": "markdown",
      "metadata": {
        "id": "0IEMnzBq8wxb",
        "colab_type": "text"
      },
      "source": [
        "Visualize the data"
      ]
    },
    {
      "cell_type": "code",
      "metadata": {
        "colab_type": "code",
        "outputId": "cc489370-a64b-4eed-fb12-032f39017152",
        "id": "bTXRzfadhHtA",
        "colab": {
          "base_uri": "https://localhost:8080/",
          "height": 513
        }
      },
      "source": [
        "import matplotlib.pyplot as plt\n",
        "target = 0\n",
        "plt.figure()\n",
        "plt.imshow(x_train[target,:])\n",
        "plt.axis('off')\n",
        "plt.show()\n",
        "print(y_train[target])\n",
        "\n",
        "plt.figure()\n",
        "plt.imshow(trainX[target,:],cmap='gray')\n",
        "plt.axis('off')\n",
        "plt.show()\n",
        "print(trainY[target])"
      ],
      "execution_count": 66,
      "outputs": [
        {
          "output_type": "display_data",
          "data": {
            "text/plain": [
              "<Figure size 432x288 with 1 Axes>"
            ],
            "image/png": "[encoded data removed]"
          },
          "metadata": {
            "tags": [],
            "needs_background": "light"
          }
        },
        {
          "output_type": "stream",
          "text": [
            "6\n"
          ],
          "name": "stdout"
        },
        {
          "output_type": "display_data",
          "data": {
            "text/plain": [
              "<Figure size 432x288 with 1 Axes>"
            ],
            "image/png": "[encoded data removed]"
          },
          "metadata": {
            "tags": [],
            "needs_background": "light"
          }
        },
        {
          "output_type": "stream",
          "text": [
            "9\n"
          ],
          "name": "stdout"
        }
      ]
    },
    {
      "cell_type": "markdown",
      "metadata": {
        "id": "xQ_BHj4uiwEo",
        "colab_type": "text"
      },
      "source": [
        "Pre-processing"
      ]
    },
    {
      "cell_type": "code",
      "metadata": {
        "id": "9iAyjmN5-RtQ",
        "colab_type": "code",
        "colab": {}
      },
      "source": [
        "import numpy as np\n",
        "\n",
        "y_train = np.squeeze(y_train)\n",
        "y_test = np.squeeze(y_test)"
      ],
      "execution_count": 0,
      "outputs": []
    },
    {
      "cell_type": "markdown",
      "metadata": {
        "id": "nvAHLKLH9wa7",
        "colab_type": "text"
      },
      "source": [
        "Reshape into vector format for non-convolutional algos"
      ]
    },
    {
      "cell_type": "code",
      "metadata": {
        "id": "lt6kTG-k9v0P",
        "colab_type": "code",
        "colab": {}
      },
      "source": [
        "x_train = np.reshape(x_train,(x_train.shape[0],-1)) # (50000, 3072)\n",
        "trainX = np.reshape(trainX,(trainX.shape[0],-1)) # (60000, 784)"
      ],
      "execution_count": 0,
      "outputs": []
    },
    {
      "cell_type": "markdown",
      "metadata": {
        "id": "aM4emVdZg3jZ",
        "colab_type": "text"
      },
      "source": [
        "One-hot encoding"
      ]
    },
    {
      "cell_type": "code",
      "metadata": {
        "id": "jbS5mOM-V_J2",
        "colab_type": "code",
        "colab": {}
      },
      "source": [
        "import keras\n",
        "num_classes = 10\n",
        "onehot_y_train = keras.utils.to_categorical(y_train, num_classes)\n",
        "onehot_y_test = keras.utils.to_categorical(y_test, num_classes)\n",
        "onehot_trainY = keras.utils.to_categorical(trainY, num_classes)\n",
        "onehot_testY = keras.utils.to_categorical(testY, num_classes)"
      ],
      "execution_count": 0,
      "outputs": []
    },
    {
      "cell_type": "markdown",
      "metadata": {
        "id": "5otB_a269scv",
        "colab_type": "text"
      },
      "source": [
        "# Implement NN Using Keras"
      ]
    },
    {
      "cell_type": "markdown",
      "metadata": {
        "id": "LQp2A7WXhBnK",
        "colab_type": "text"
      },
      "source": [
        "Fashion MNIST Training"
      ]
    },
    {
      "cell_type": "code",
      "metadata": {
        "id": "GaYtkJ_A9k6y",
        "colab_type": "code",
        "colab": {}
      },
      "source": [
        "from keras.models import Sequential\n",
        "from keras.layers import Dense, Activation, BatchNormalization\n",
        "from keras.regularizers import l2\n",
        "from keras.optimizers import Adagrad, Adam\n",
        "\n",
        "model = Sequential([\n",
        "  # Input Layer, Hidden layer\n",
        "  Dense(1024, use_bias=False, input_shape=(trainX.shape[1],)),\n",
        "  BatchNormalization(),\n",
        "  Activation('relu'),\n",
        "\n",
        "  # Output layer\n",
        "  Dense(10,use_bias=False),\n",
        "  BatchNormalization(),\n",
        "  Activation('softmax'),\n",
        "])\n",
        "\n",
        "model.compile(\n",
        "  Adam(),\n",
        "  loss='categorical_crossentropy',\n",
        "  metrics=['accuracy']\n",
        ")\n",
        "\n",
        "history = model.fit(trainX, onehot_trainY, epochs=20, batch_size=64, validation_split=0.2, verbose=0)"
      ],
      "execution_count": 0,
      "outputs": []
    },
    {
      "cell_type": "code",
      "metadata": {
        "id": "1akO99KNbSdD",
        "colab_type": "code",
        "colab": {
          "base_uri": "https://localhost:8080/",
          "height": 279
        },
        "outputId": "3b8ced09-e43d-428e-aaa3-d72b03efb47f"
      },
      "source": [
        "plt.plot(history.history['loss'], label='Training Loss')\n",
        "plt.plot(history.history['val_loss'], label='Validation Loss')\n",
        "plt.ylabel('Loss')\n",
        "plt.xlabel('Epoch')\n",
        "plt.legend()\n",
        "plt.show()"
      ],
      "execution_count": 70,
      "outputs": [
        {
          "output_type": "display_data",
          "data": {
            "text/plain": [
              "<Figure size 432x288 with 1 Axes>"
            ],
            "image/png": "[encoded data removed]"
          },
          "metadata": {
            "tags": [],
            "needs_background": "light"
          }
        }
      ]
    },
    {
      "cell_type": "markdown",
      "metadata": {
        "id": "W8rv8U30hEv7",
        "colab_type": "text"
      },
      "source": [
        "CIFAR-10 Training"
      ]
    },
    {
      "cell_type": "code",
      "metadata": {
        "id": "Brgw65LC9rhr",
        "colab_type": "code",
        "colab": {}
      },
      "source": [
        "model = Sequential([\n",
        "  # Input Layer, Hidden layer\n",
        "  Dense(1024,use_bias=False, input_shape=(x_train.shape[1],)),\n",
        "  BatchNormalization(),\n",
        "  Activation('relu'),\n",
        "\n",
        "  # Output layer\n",
        "  Dense(10,use_bias=False),\n",
        "  BatchNormalization(),\n",
        "  Activation('softmax'),\n",
        "])\n",
        "\n",
        "model.compile(\n",
        "  Adam(),\n",
        "  loss='categorical_crossentropy',\n",
        "  metrics=['accuracy']\n",
        ")\n",
        "\n",
        "history = model.fit(x_train, onehot_y_train, epochs=20, batch_size=64, validation_split=0.2,verbose=0)"
      ],
      "execution_count": 0,
      "outputs": []
    },
    {
      "cell_type": "code",
      "metadata": {
        "id": "hKFJROU_bbbV",
        "colab_type": "code",
        "colab": {
          "base_uri": "https://localhost:8080/",
          "height": 279
        },
        "outputId": "f3bc217a-6402-4afe-bdf8-963e4183295d"
      },
      "source": [
        "plt.plot(history.history['loss'], label='Training Loss')\n",
        "plt.plot(history.history['val_loss'], label='Validation Loss')\n",
        "plt.ylabel('Loss')\n",
        "plt.xlabel('Epoch')\n",
        "plt.legend()\n",
        "plt.show()"
      ],
      "execution_count": 72,
      "outputs": [
        {
          "output_type": "display_data",
          "data": {
            "text/plain": [
              "<Figure size 432x288 with 1 Axes>"
            ],
            "image/png": "[encoded data removed]"
          },
          "metadata": {
            "tags": [],
            "needs_background": "light"
          }
        }
      ]
    }
  ]
}